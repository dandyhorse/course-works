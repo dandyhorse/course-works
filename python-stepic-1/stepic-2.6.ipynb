{
 "cells": [
  {
   "cell_type": "code",
   "execution_count": 5,
   "metadata": {},
   "outputs": [
    {
     "name": "stdout",
     "output_type": "stream",
     "text": [
      "1\n",
      "1\n",
      "-3\n",
      "-3\n",
      "5\n",
      "5\n",
      "-6\n",
      "-6\n",
      "-10\n",
      "-10\n",
      "13\n",
      "13\n",
      "340\n"
     ]
    }
   ],
   "source": [
    "lst = [int(input())]\n",
    "s = 0\n",
    "while sum(lst) is not 0:\n",
    "    lst.append(int(input()))\n",
    "for i in lst:\n",
    "    s += i ** 2\n",
    "print(s)"
   ]
  },
  {
   "cell_type": "code",
   "execution_count": 73,
   "metadata": {
    "scrolled": true
   },
   "outputs": [
    {
     "name": "stdout",
     "output_type": "stream",
     "text": [
      "22\n",
      "1 2 2 3 3 3 4 4 4 4 5 5 5 5 5 6 6 6 6 6 6 7\n"
     ]
    }
   ],
   "source": [
    "n = int(input())\n",
    "l = [j for j in range(1, n + 1) for i in range(j)]\n",
    "print(' '.join(str(i) for i in l[:n]))"
   ]
  },
  {
   "cell_type": "code",
   "execution_count": 62,
   "metadata": {},
   "outputs": [
    {
     "name": "stdout",
     "output_type": "stream",
     "text": [
      "5 8 2 7 8 8 2 4\n",
      "10\n",
      "Отсутствует\n"
     ]
    }
   ],
   "source": [
    "lst = [int(i) for i in input().split()]\n",
    "f = int(input())\n",
    "r = []\n",
    "for i in range(len(lst)):\n",
    "    if f == lst[i]:\n",
    "        r.append(i)\n",
    "if len(r) is 0:\n",
    "    print('Отсутствует')\n",
    "else:\n",
    "    print(' '.join(str(i) for i in r))"
   ]
  },
  {
   "cell_type": "code",
   "execution_count": 41,
   "metadata": {},
   "outputs": [
    {
     "name": "stdout",
     "output_type": "stream",
     "text": [
      "1 2 3\n",
      "end\n",
      "7 8 9 \n"
     ]
    }
   ],
   "source": [
    "imatrix = []\n",
    "while True:\n",
    "    inp = input()\n",
    "    if inp == 'end':\n",
    "        break\n",
    "    imatrix += [[int(i) for i in inp.split()]]\n",
    "    \n",
    "omatrix = []\n",
    "temp = []\n",
    "\n",
    "x = len(imatrix[0])\n",
    "y = len(imatrix)\n",
    "\n",
    "for i in range(y):\n",
    "    for j in range(x):\n",
    "        up = imatrix[i - 1][j]\n",
    "        down = imatrix[(i + 1) % y][j]\n",
    "        left = imatrix[i][j - 1]\n",
    "        right = imatrix[i][(j + 1) % x]\n",
    "        temp.append(up + down + left + right)\n",
    "    omatrix += [temp]\n",
    "    temp = []\n",
    "\n",
    "for i in omatrix:\n",
    "    for j in i:\n",
    "        print(j , end=' ')\n",
    "    print()"
   ]
  },
  {
   "cell_type": "code",
   "execution_count": 42,
   "metadata": {},
   "outputs": [
    {
     "name": "stdout",
     "output_type": "stream",
     "text": [
      "5\n"
     ]
    }
   ],
   "source": [
    "n = int(input())"
   ]
  },
  {
   "cell_type": "code",
   "execution_count": 53,
   "metadata": {},
   "outputs": [
    {
     "name": "stdout",
     "output_type": "stream",
     "text": [
      "5\n",
      "1\t2\t3\t4\t5\t\n",
      "16\t17\t18\t19\t6\t\n",
      "15\t24\t25\t20\t7\t\n",
      "14\t23\t22\t21\t8\t\n",
      "13\t12\t11\t10\t9\t\n"
     ]
    }
   ],
   "source": [
    "n = int(input())\n",
    "a=[[0 for j in range(n)] for i in range(n)]\n",
    "\n",
    "d, i, j = 0, 0, 0 \n",
    "for num in range(1, n**2 + 1):\n",
    "    a[i][j] = num\n",
    "    if i == d + 1 and j == d:\n",
    "        d += 1\n",
    "    if i == d and j < n -d -1:\n",
    "        j += 1\n",
    "    elif j == n -d -1 and i < n -d -1:\n",
    "        i += 1\n",
    "    elif i == n -d - 1 and j > d:\n",
    "        j -= 1\n",
    "    elif j == d and i > d:\n",
    "        i -= 1\n",
    "\n",
    "for row in a:\n",
    "    for s in row:\n",
    "        print(s, end='\\t')\n",
    "    print()"
   ]
  }
 ],
 "metadata": {
  "kernelspec": {
   "display_name": "Python 3",
   "language": "python",
   "name": "python3"
  },
  "language_info": {
   "codemirror_mode": {
    "name": "ipython",
    "version": 3
   },
   "file_extension": ".py",
   "mimetype": "text/x-python",
   "name": "python",
   "nbconvert_exporter": "python",
   "pygments_lexer": "ipython3",
   "version": "3.6.1"
  }
 },
 "nbformat": 4,
 "nbformat_minor": 2
}
