{
 "cells": [
  {
   "cell_type": "code",
   "execution_count": 2,
   "metadata": {},
   "outputs": [
    {
     "name": "stdout",
     "output_type": "stream",
     "text": [
      "1\n",
      "2\n",
      "12\n",
      "12\n",
      "58\n",
      "58\n",
      "101\n"
     ]
    }
   ],
   "source": [
    "while True:\n",
    "    a = int(input())\n",
    "    if a < 10:\n",
    "        continue\n",
    "    if a > 100:\n",
    "        break\n",
    "    print(a)"
   ]
  },
  {
   "cell_type": "code",
   "execution_count": 22,
   "metadata": {},
   "outputs": [
    {
     "name": "stdout",
     "output_type": "stream",
     "text": [
      "1\n",
      "3\n",
      "2\n",
      "4\n"
     ]
    }
   ],
   "source": [
    "a = int(input())\n",
    "b = int(input())\n",
    "c = int(input())\n",
    "d = int(input())"
   ]
  },
  {
   "cell_type": "code",
   "execution_count": 23,
   "metadata": {},
   "outputs": [
    {
     "name": "stdout",
     "output_type": "stream",
     "text": [
      " \t2\t3\t4\t\n",
      "1\t2\t3\t4\t\n",
      "2\t4\t6\t8\t\n",
      "3\t6\t9\t12\t\n"
     ]
    }
   ],
   "source": [
    "print(' ', end='\\t')\n",
    "for s in range(c, d + 1):\n",
    "    print(s, end='\\t')\n",
    "print()\n",
    "for i in range(a, b + 1):\n",
    "    print(i, end='\\t')\n",
    "    for j in range(c, d + 1):\n",
    "        print(j * i, end='\\t')\n",
    "    print()"
   ]
  },
  {
   "cell_type": "code",
   "execution_count": 38,
   "metadata": {},
   "outputs": [
    {
     "name": "stdout",
     "output_type": "stream",
     "text": [
      "-5\n",
      "12\n"
     ]
    }
   ],
   "source": [
    "a = int(input())\n",
    "b = int(input())"
   ]
  },
  {
   "cell_type": "code",
   "execution_count": 57,
   "metadata": {},
   "outputs": [
    {
     "name": "stdout",
     "output_type": "stream",
     "text": [
      "4.5\n"
     ]
    }
   ],
   "source": [
    "while a % 3 != 0:\n",
    "    a += 1\n",
    "\n",
    "s = 0\n",
    "ran = range(a, b + 1, 3)\n",
    "for i in ran:\n",
    "        s += i\n",
    "\n",
    "print(s / len(ran))"
   ]
  },
  {
   "cell_type": "code",
   "execution_count": 60,
   "metadata": {},
   "outputs": [
    {
     "name": "stdout",
     "output_type": "stream",
     "text": [
      "acggtgttat\n"
     ]
    }
   ],
   "source": [
    "genom = input().lower()"
   ]
  },
  {
   "cell_type": "code",
   "execution_count": 63,
   "metadata": {},
   "outputs": [
    {
     "data": {
      "text/plain": [
       "40.0"
      ]
     },
     "execution_count": 63,
     "metadata": {},
     "output_type": "execute_result"
    }
   ],
   "source": [
    "gnum = genom.count('g')\n",
    "cnum = genom.count('c')\n",
    "r = (gnum + cnum) / len(genom) * 100\n",
    "print(r)"
   ]
  },
  {
   "cell_type": "code",
   "execution_count": 92,
   "metadata": {},
   "outputs": [
    {
     "name": "stdout",
     "output_type": "stream",
     "text": [
      "aaaaajjooopjjjjjjjjjjdhdhjjjj\n"
     ]
    }
   ],
   "source": [
    "gen = input()"
   ]
  },
  {
   "cell_type": "code",
   "execution_count": 98,
   "metadata": {},
   "outputs": [
    {
     "name": "stdout",
     "output_type": "stream",
     "text": [
      "a5j2o3p1j10d1h1d1h1j4\n"
     ]
    }
   ],
   "source": [
    "temp = gen[0]\n",
    "counter = 0\n",
    "r = ''\n",
    "for c in gen:\n",
    "    if temp == c:\n",
    "        counter += 1\n",
    "    else:\n",
    "        r += temp + str(counter)\n",
    "        temp = c\n",
    "        counter = 1\n",
    "print(r + temp + str(counter))"
   ]
  },
  {
   "cell_type": "code",
   "execution_count": 10,
   "metadata": {},
   "outputs": [
    {
     "name": "stdout",
     "output_type": "stream",
     "text": [
      "1 2 3\n"
     ]
    },
    {
     "data": {
      "text/plain": [
       "6"
      ]
     },
     "execution_count": 10,
     "metadata": {},
     "output_type": "execute_result"
    }
   ],
   "source": [
    "print(sum([int(i) for i in input().split()]))"
   ]
  },
  {
   "cell_type": "code",
   "execution_count": 93,
   "metadata": {},
   "outputs": [
    {
     "name": "stdout",
     "output_type": "stream",
     "text": [
      "10\n"
     ]
    }
   ],
   "source": [
    "arr = [int(i) for i in input().split()]"
   ]
  },
  {
   "cell_type": "code",
   "execution_count": 92,
   "metadata": {},
   "outputs": [
    {
     "name": "stdout",
     "output_type": "stream",
     "text": [
      "13 6 9 15 7 "
     ]
    }
   ],
   "source": [
    "s = []\n",
    "l = len(arr)\n",
    "for i in range(l):\n",
    "    s.append(arr[i - 1] + sum(arr[i + 1:i + 2]))\n",
    "if l is not 1:\n",
    "    s[-1] += arr[0]\n",
    "for i in s:\n",
    "    print(i, end=' ')"
   ]
  },
  {
   "cell_type": "code",
   "execution_count": 153,
   "metadata": {},
   "outputs": [
    {
     "name": "stdout",
     "output_type": "stream",
     "text": [
      "4 8 0 3 4 2 0 3\n"
     ]
    }
   ],
   "source": [
    "arr = sorted([int(i) for i in input().split()])"
   ]
  },
  {
   "cell_type": "code",
   "execution_count": 144,
   "metadata": {},
   "outputs": [
    {
     "name": "stdout",
     "output_type": "stream",
     "text": [
      "1 2 "
     ]
    }
   ],
   "source": [
    "temp = int()\n",
    "res = []\n",
    "for i in arr:\n",
    "    if i == temp and i not in res:\n",
    "        res.append(i)\n",
    "    else:\n",
    "        temp = i\n",
    "for i in res:\n",
    "    print(i, end=' ')"
   ]
  },
  {
   "cell_type": "code",
   "execution_count": 148,
   "metadata": {},
   "outputs": [
    {
     "name": "stdout",
     "output_type": "stream",
     "text": [
      "4 8 0 3 4 2 0 3\n",
      "0 2 3 4 8 "
     ]
    }
   ],
   "source": [
    "res = set([int(i) for i in input().split()])\n",
    "for i in res:\n",
    "    print(i, end=' ')"
   ]
  },
  {
   "cell_type": "code",
   "execution_count": 154,
   "metadata": {},
   "outputs": [
    {
     "name": "stdout",
     "output_type": "stream",
     "text": [
      "0 3 4 "
     ]
    }
   ],
   "source": [
    "res = []\n",
    "for i, item in enumerate(arr[:-1]):\n",
    "    if item == arr[i + 1] and item not in res:\n",
    "        res.append(item)\n",
    "for i in res:\n",
    "    print(i, end=' ')"
   ]
  }
 ],
 "metadata": {
  "kernelspec": {
   "display_name": "Python 3",
   "language": "python",
   "name": "python3"
  },
  "language_info": {
   "codemirror_mode": {
    "name": "ipython",
    "version": 3
   },
   "file_extension": ".py",
   "mimetype": "text/x-python",
   "name": "python",
   "nbconvert_exporter": "python",
   "pygments_lexer": "ipython3",
   "version": "3.6.1"
  }
 },
 "nbformat": 4,
 "nbformat_minor": 2
}
