{
 "cells": [
  {
   "cell_type": "code",
   "execution_count": 2,
   "metadata": {
    "collapsed": true
   },
   "outputs": [],
   "source": [
    "def f(n):\n",
    "    return n * 10 + 5"
   ]
  },
  {
   "cell_type": "code",
   "execution_count": 3,
   "metadata": {},
   "outputs": [
    {
     "data": {
      "text/plain": [
       "10555"
      ]
     },
     "execution_count": 3,
     "metadata": {},
     "output_type": "execute_result"
    }
   ],
   "source": [
    "f(f(f(10)))"
   ]
  },
  {
   "cell_type": "code",
   "execution_count": 4,
   "metadata": {
    "collapsed": true
   },
   "outputs": [],
   "source": [
    "def f(x):\n",
    "    if x <= -2:\n",
    "        return 1 - (x + 2)**2\n",
    "    elif -2 < x and x <= 2:\n",
    "        return -x / 2\n",
    "    elif 2 < x:\n",
    "        return (x - 2)**2 + 1"
   ]
  },
  {
   "cell_type": "code",
   "execution_count": 7,
   "metadata": {},
   "outputs": [
    {
     "data": {
      "text/plain": [
       "-0.5"
      ]
     },
     "execution_count": 7,
     "metadata": {},
     "output_type": "execute_result"
    }
   ],
   "source": [
    "f(1)"
   ]
  },
  {
   "cell_type": "code",
   "execution_count": 41,
   "metadata": {
    "collapsed": true
   },
   "outputs": [],
   "source": [
    "def modify_list(l):\n",
    "    temp = []\n",
    "    for i in range(len(l)):\n",
    "        s = l.pop(0)\n",
    "        if (s % 2) == 0:\n",
    "            temp.append(s // 2)   \n",
    "    l.extend(temp)"
   ]
  },
  {
   "cell_type": "code",
   "execution_count": 43,
   "metadata": {},
   "outputs": [
    {
     "name": "stdout",
     "output_type": "stream",
     "text": [
      "[5, 4]\n"
     ]
    }
   ],
   "source": [
    "modify_list(li)\n",
    "print(li)"
   ]
  },
  {
   "cell_type": "code",
   "execution_count": 52,
   "metadata": {
    "collapsed": true
   },
   "outputs": [],
   "source": [
    "def update_dictionary(d, key, value):\n",
    "    if key in d:\n",
    "        d[key] += [value]\n",
    "    elif (2 * key) in d:\n",
    "        d[2 * key] += [value]\n",
    "    else:\n",
    "        d[2 * key] = [value]"
   ]
  },
  {
   "cell_type": "code",
   "execution_count": 70,
   "metadata": {},
   "outputs": [
    {
     "name": "stdout",
     "output_type": "stream",
     "text": [
      "a aa abC aa ac abc bcd a\n",
      "a 2\n",
      "aa 2\n",
      "abc 2\n",
      "ac 1\n",
      "bcd 1\n"
     ]
    }
   ],
   "source": [
    "d = dict()\n",
    "for word in [s.lower() for s in input().split()]:\n",
    "    d[word] = d.get(word, 0) + 1\n",
    "for k, v in d.items():\n",
    "    print(k, v)"
   ]
  },
  {
   "cell_type": "code",
   "execution_count": 78,
   "metadata": {},
   "outputs": [
    {
     "name": "stdout",
     "output_type": "stream",
     "text": [
      "3\n",
      "1\n",
      "-0.5\n",
      "13\n",
      "122\n",
      "4\n",
      "5\n"
     ]
    }
   ],
   "source": [
    "temp = dict()\n",
    "for i in range(int(input())):\n",
    "    x = int(input())\n",
    "    if x not in temp:\n",
    "        temp[x] = f(x)\n",
    "    print(temp[x])"
   ]
  },
  {
   "cell_type": "code",
   "execution_count": 9,
   "metadata": {},
   "outputs": [
    {
     "name": "stdout",
     "output_type": "stream",
     "text": [
      "2\n",
      "восток 10\n",
      "10\n",
      "10 0\n",
      "юг 32\n",
      "32\n",
      "10 -32\n",
      "10 -32\n"
     ]
    }
   ],
   "source": [
    "x, y = 0, 0\n",
    "M = {'север':[0,1], 'запад':[-1,0], 'юг':[0,-1], 'восток':[1,0]}\n",
    "for i in range(int(input())):\n",
    "    direction, distance = input().split()\n",
    "    distance = int(distance)\n",
    "    x += distance * M[direction][0]\n",
    "    y += distance * M[direction][1]\n",
    "print(x, y)"
   ]
  },
  {
   "cell_type": "code",
   "execution_count": 84,
   "metadata": {},
   "outputs": [
    {
     "name": "stdout",
     "output_type": "stream",
     "text": [
      "1 126.4375\n",
      "2 131.71428571428572\n",
      "3 136.22222222222223\n",
      "4 138.16666666666666\n",
      "5 144.5\n",
      "6 155.8181818181818\n",
      "7 159.875\n",
      "8 165.92857142857142\n",
      "9 169.22222222222223\n",
      "10 170.66666666666666\n",
      "11 176.2\n"
     ]
    }
   ],
   "source": [
    "with open('dataset', 'r') as inf:\n",
    "    a = ''.join(inf.readlines()).rstrip().split('\\n')\n",
    "    b = sum([i.split('\\t') for i in a], [])\n",
    "d = {}\n",
    "c = {}\n",
    "for i in range(0, len(b) - 2, 3):\n",
    "    clazz_num = b[i]\n",
    "    if b[i] in d:\n",
    "        d[clazz_num] += int(b[i + 2])\n",
    "        c[clazz_num] += 1\n",
    "    else:\n",
    "        d[clazz_num] = int(b[i + 2])\n",
    "        c[clazz_num] = 1\n",
    "\n",
    "for i in range(1, 12):\n",
    "    s = str(i)\n",
    "    if s in d:\n",
    "        print(i, d[s] / c[s])\n",
    "    else:\n",
    "        print(i, '-')"
   ]
  }
 ],
 "metadata": {
  "kernelspec": {
   "display_name": "Python 3",
   "language": "python",
   "name": "python3"
  },
  "language_info": {
   "codemirror_mode": {
    "name": "ipython",
    "version": 3
   },
   "file_extension": ".py",
   "mimetype": "text/x-python",
   "name": "python",
   "nbconvert_exporter": "python",
   "pygments_lexer": "ipython3",
   "version": "3.6.1"
  }
 },
 "nbformat": 4,
 "nbformat_minor": 2
}
